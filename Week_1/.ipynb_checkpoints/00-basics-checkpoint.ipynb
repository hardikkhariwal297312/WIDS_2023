{
 "cells": [
  {
   "cell_type": "code",
   "execution_count": null,
   "metadata": {},
   "outputs": [],
   "source": [
    "# Example 1: Printing Hello, World!\n",
    "print(\"Hello, World!\")"
   ]
  },
  {
   "cell_type": "code",
   "execution_count": null,
   "metadata": {},
   "outputs": [],
   "source": [
    "# Example 2: Taking user input and printing a message\n",
    "user_name = input(\"Enter your name: \")  # Taking user input\n",
    "print(\"Hello, \" + user_name + \"!\")  # Printing a greeting\n"
   ]
  },
  {
   "cell_type": "code",
   "execution_count": null,
   "metadata": {},
   "outputs": [],
   "source": [
    "age = int(input(\"Enter your age: \"))\n",
    "print(\"You are\", age, \"years old.\")\n"
   ]
  },
  {
   "cell_type": "code",
   "execution_count": null,
   "metadata": {},
   "outputs": [],
   "source": [
    "# Example 3: Basic arithmetic operations and printing results\n",
    "a = 5\n",
    "b = 3\n",
    "sum_result = a + b\n",
    "difference_result = a - b\n",
    "product_result = a * b\n",
    "quotient_result = a / b\n",
    "\n",
    "# Printing results\n",
    "print(\"Sum:\", sum_result)\n",
    "print(\"Difference:\", difference_result)\n",
    "print(\"Product:\", product_result)\n",
    "print(\"Quotient:\", quotient_result)\n"
   ]
  },
  {
   "cell_type": "code",
   "execution_count": null,
   "metadata": {},
   "outputs": [],
   "source": [
    "# Example 4: Conditional statements with if-else\n",
    "age = int(input(\"Enter your age: \"))  # Taking user input as an integer\n",
    "\n",
    "# Checking age and printing a message\n",
    "if age >= 18:\n",
    "    print(\"You are an adult.\")\n",
    "else:\n",
    "    print(\"You are a minor.\")\n"
   ]
  },
  {
   "cell_type": "code",
   "execution_count": null,
   "metadata": {},
   "outputs": [],
   "source": [
    "# Example 5: Lists and printing elements\n",
    "fruits = [\"apple\", \"banana\", \"orange\"]\n",
    "print(\"Fruits:\", fruits)\n",
    "\n",
    "# Accessing elements\n",
    "print(\"First fruit:\", fruits[0])\n"
   ]
  },
  {
   "cell_type": "code",
   "execution_count": null,
   "metadata": {},
   "outputs": [],
   "source": [
    "# Example 7: Functions and printing results\n",
    "def greet(name):\n",
    "    print(\"Hello, \" + name + \"!\")\n",
    "\n",
    "greet(\"Alice\")\n",
    "greet(\"Bob\")\n"
   ]
  },
  {
   "cell_type": "code",
   "execution_count": null,
   "metadata": {},
   "outputs": [],
   "source": [
    "# Example 8: String manipulation and printing results\n",
    "sentence = \"Python is fun!\"\n",
    "\n",
    "# Length of the string\n",
    "print(\"Length:\", len(sentence))\n",
    "\n",
    "# Uppercase and lowercase\n",
    "print(\"Uppercase:\", sentence.upper())\n",
    "print(\"Lowercase:\", sentence.lower())\n",
    "\n",
    "# Substring\n",
    "print(\"Substring:\", sentence[0:6])\n"
   ]
  },
  {
   "cell_type": "code",
   "execution_count": null,
   "metadata": {},
   "outputs": [],
   "source": [
    "# Example 9: Dictionaries and printing values\n",
    "student = {\"name\": \"Alice\", \"age\": 20, \"grade\": \"A\"}\n",
    "print(\"Student:\", student)\n",
    "\n",
    "# Accessing values\n",
    "print(\"Name:\", student[\"name\"])\n"
   ]
  },
  {
   "cell_type": "code",
   "execution_count": null,
   "metadata": {},
   "outputs": [],
   "source": [
    "# Example 10: Boolean logic and printing results\n",
    "is_raining = True\n",
    "is_sunny = False\n",
    "\n",
    "# Checking weather conditions and printing messages\n",
    "if is_raining and not is_sunny:\n",
    "    print(\"It's a rainy day.\")\n",
    "elif not is_raining and is_sunny:\n",
    "    print(\"It's a sunny day.\")\n",
    "else:\n",
    "    print(\"Weather is unpredictable.\")\n"
   ]
  }
 ],
 "metadata": {
  "language_info": {
   "name": "python"
  }
 },
 "nbformat": 4,
 "nbformat_minor": 2
}
