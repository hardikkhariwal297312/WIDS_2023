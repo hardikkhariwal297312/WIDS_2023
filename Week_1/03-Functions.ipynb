{
 "cells": [
  {
   "cell_type": "code",
   "execution_count": 1,
   "metadata": {},
   "outputs": [
    {
     "name": "stdout",
     "output_type": "stream",
     "text": [
      "Sorry, you are not eligible to vote yet.\n"
     ]
    }
   ],
   "source": [
    "# Standalone if-else statement example\n",
    "\n",
    "# Get user input for age\n",
    "user_age = int(input(\"Enter your age: \"))\n",
    "\n",
    "# Check if the user is eligible to vote\n",
    "voting_age = 18\n",
    "if user_age >= voting_age:\n",
    "    print(\"You are eligible to vote!\")\n",
    "else:\n",
    "    print(\"Sorry, you are not eligible to vote yet.\")\n"
   ]
  },
  {
   "cell_type": "code",
   "execution_count": null,
   "metadata": {},
   "outputs": [],
   "source": [
    "# Standalone function example\n",
    "\n",
    "def calculate_area_of_rectangle(length, width):\n",
    "    \"\"\"\n",
    "    This function calculates the area of a rectangle.\n",
    "\n",
    "    Args:\n",
    "    - length (float): The length of the rectangle.\n",
    "    - width (float): The width of the rectangle.\n",
    "\n",
    "    Returns:\n",
    "    - float: The calculated area of the rectangle.\n",
    "    \"\"\"\n",
    "    area = length * width\n",
    "    return area\n",
    "\n",
    "# Test the function\n",
    "rectangle_length = 5.0\n",
    "rectangle_width = 3.0\n",
    "\n",
    "area_of_rectangle = calculate_area_of_rectangle(rectangle_length, rectangle_width)\n",
    "\n",
    "print(f\"The area of the rectangle with length {rectangle_length} and width {rectangle_width} is {area_of_rectangle}.\")\n"
   ]
  },
  {
   "cell_type": "code",
   "execution_count": null,
   "metadata": {},
   "outputs": [],
   "source": [
    "# Example 1: Function with multiple conditions using if-else statement\n",
    "\n",
    "def get_grade(score):\n",
    "    \"\"\"\n",
    "    This function assigns a letter grade based on the input score.\n",
    "\n",
    "    Args:\n",
    "    - score (float): The numerical score to evaluate.\n",
    "\n",
    "    Returns:\n",
    "    - str: The corresponding letter grade (A, B, C, D, or F).\n",
    "    \"\"\"\n",
    "    if score >= 90:\n",
    "        return \"A\"\n",
    "    elif 80 <= score < 90:\n",
    "        return \"B\"\n",
    "    elif 70 <= score < 80:\n",
    "        return \"C\"\n",
    "    elif 60 <= score < 70:\n",
    "        return \"D\"\n",
    "    else:\n",
    "        return \"F\"\n",
    "\n",
    "# Test the function\n",
    "student_score = 78.5\n",
    "grade = get_grade(student_score)\n",
    "print(f\"The student's score of {student_score} corresponds to a grade of {grade}.\")\n"
   ]
  },
  {
   "cell_type": "code",
   "execution_count": 3,
   "metadata": {},
   "outputs": [
    {
     "name": "stdout",
     "output_type": "stream",
     "text": [
      "The number 7 is Odd.\n"
     ]
    }
   ],
   "source": [
    "# Example 2: Simple function with if-else statement\n",
    "\n",
    "def is_even_or_odd(number):\n",
    "    \"\"\"\n",
    "    This function determines whether a given number is even or odd.\n",
    "\n",
    "    Args:\n",
    "    - number (int): The input number to check.\n",
    "\n",
    "    Returns:\n",
    "    - str: \"Even\" if the number is even, \"Odd\" if the number is odd.\n",
    "    \"\"\"\n",
    "    if number % 2 == 0:\n",
    "        return \"Even\"\n",
    "    else:\n",
    "        return \"Odd\"\n",
    "\n",
    "# Test the function\n",
    "input_number = 7\n",
    "result = is_even_or_odd(input_number)\n",
    "print(f\"The number {input_number} is {result}.\")\n"
   ]
  },
  {
   "cell_type": "code",
   "execution_count": 2,
   "metadata": {},
   "outputs": [
    {
     "name": "stdout",
     "output_type": "stream",
     "text": [
      "Good\n"
     ]
    }
   ],
   "source": [
    "# Independent if-else statement example with a hard example\n",
    "\n",
    "def assess_student_performance(math_score, english_score):\n",
    "    \"\"\"\n",
    "    This function assesses a student's overall performance based on scores in math and English.\n",
    "\n",
    "    Args:\n",
    "    - math_score (float): The student's math score.\n",
    "    - english_score (float): The student's English score.\n",
    "\n",
    "    Returns:\n",
    "    - str: Assessment of the student's performance (Excellent, Good, Average, Poor).\n",
    "    \"\"\"\n",
    "    # Define a threshold for each subject\n",
    "    math_threshold = 80\n",
    "    english_threshold = 75\n",
    "\n",
    "    # Check math and English scores to assess overall performance\n",
    "    if math_score >= math_threshold and english_score >= english_threshold:\n",
    "        return \"Excellent\"\n",
    "    elif math_score >= math_threshold or english_score >= english_threshold:\n",
    "        return \"Good\"\n",
    "    elif 60 <= math_score < math_threshold and 60 <= english_score < english_threshold:\n",
    "        return \"Average\"\n",
    "    else:\n",
    "        return \"Poor\"\n",
    "\n",
    "# Test the function\n",
    "student_math_score = 85\n",
    "student_english_score = 70\n",
    "performance_assessment = assess_student_performance(student_math_score, student_english_score)\n",
    "print(performance_assessment)\n"
   ]
  }
 ],
 "metadata": {
  "kernelspec": {
   "display_name": "Python 3",
   "language": "python",
   "name": "python3"
  },
  "language_info": {
   "codemirror_mode": {
    "name": "ipython",
    "version": 3
   },
   "file_extension": ".py",
   "mimetype": "text/x-python",
   "name": "python",
   "nbconvert_exporter": "python",
   "pygments_lexer": "ipython3",
   "version": "3.8.10"
  }
 },
 "nbformat": 4,
 "nbformat_minor": 2
}
